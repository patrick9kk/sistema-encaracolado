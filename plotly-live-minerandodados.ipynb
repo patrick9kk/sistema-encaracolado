{
 "cells": [
  {
   "cell_type": "markdown",
   "metadata": {},
   "source": [
    "**Minerando Dados** - `Data Science, Machine Learning e Inteligência Artificial de forma fácil.`"
   ]
  },
  {
   "cell_type": "markdown",
   "metadata": {},
   "source": [
    "www.minerandodados.com.br"
   ]
  },
  {
   "cell_type": "markdown",
   "metadata": {
    "colab_type": "text",
    "id": "JJCLNXceiSr4"
   },
   "source": [
    "## Visualização de dados com Plot.ly##"
   ]
  },
  {
   "cell_type": "markdown",
   "metadata": {
    "colab_type": "text",
    "id": "bdRzTDt4iSr5"
   },
   "source": [
    "`Cufflinks conecta o pandas ao plot.ly`\n",
    "\n",
    "`Instalação do Plot.ly e Cufflinks`"
   ]
  },
  {
   "cell_type": "code",
   "execution_count": null,
   "metadata": {
    "colab": {},
    "colab_type": "code",
    "id": "bgO2Lb3kiSr6",
    "outputId": "8e93fb8e-c4b7-42b8-d9a8-d7c88ea7edb0"
   },
   "outputs": [],
   "source": [
    "!pip install cufflinks\n",
    "!pip install plotly"
   ]
  },
  {
   "cell_type": "markdown",
   "metadata": {
    "colab_type": "text",
    "id": "ioHirTf4iSsA"
   },
   "source": [
    "`Importando o cufflinks e o plot.ly`"
   ]
  },
  {
   "cell_type": "code",
   "execution_count": null,
   "metadata": {
    "colab": {},
    "colab_type": "code",
    "id": "zz9RDGmHiSsB"
   },
   "outputs": [],
   "source": [
    "import cufflinks as cf\n",
    "from plotly.offline import iplot\n",
    "import pandas as pd\n",
    "import numpy as np"
   ]
  },
  {
   "cell_type": "markdown",
   "metadata": {
    "colab_type": "text",
    "id": "Qp92bfOBiSsD"
   },
   "source": [
    "**Cria um dataframe com dados aleatorios divididos em 4 colunas**"
   ]
  },
  {
   "cell_type": "code",
   "execution_count": null,
   "metadata": {
    "colab": {},
    "colab_type": "code",
    "id": "A1TosBXSiSsE"
   },
   "outputs": [],
   "source": [
    "df = pd.DataFrame(np.random.randn(100,4), columns=['A','B','C','D'])"
   ]
  },
  {
   "cell_type": "code",
   "execution_count": null,
   "metadata": {
    "colab": {
     "base_uri": "https://localhost:8080/",
     "height": 204
    },
    "colab_type": "code",
    "executionInfo": {
     "elapsed": 802,
     "status": "ok",
     "timestamp": 1557594629533,
     "user": {
      "displayName": "Rodrigo Santana Ferreira",
      "photoUrl": "https://lh5.googleusercontent.com/-w5AmPcUma78/AAAAAAAAAAI/AAAAAAAAAPw/2VfgXe2k7sI/s64/photo.jpg",
      "userId": "14710330936720624047"
     },
     "user_tz": 180
    },
    "id": "vlRlJY5SiSsH",
    "outputId": "9eeeedb0-14d6-4018-d7d6-e7566b9c1350"
   },
   "outputs": [],
   "source": [
    "df.head()"
   ]
  },
  {
   "cell_type": "markdown",
   "metadata": {
    "colab_type": "text",
    "id": "JvLzUfwUiSsP"
   },
   "source": [
    "**É preciso habilitar o modo offline primeiramente**"
   ]
  },
  {
   "cell_type": "code",
   "execution_count": null,
   "metadata": {
    "colab": {
     "base_uri": "https://localhost:8080/",
     "height": 17,
     "output_embedded_package_id": "1zP7gGc6oTRk1XgqZdqIEM14fo8YBkVPP"
    },
    "colab_type": "code",
    "executionInfo": {
     "elapsed": 3808,
     "status": "ok",
     "timestamp": 1557594642617,
     "user": {
      "displayName": "Rodrigo Santana Ferreira",
      "photoUrl": "https://lh5.googleusercontent.com/-w5AmPcUma78/AAAAAAAAAAI/AAAAAAAAAPw/2VfgXe2k7sI/s64/photo.jpg",
      "userId": "14710330936720624047"
     },
     "user_tz": 180
    },
    "id": "p7xGZec8iSsQ",
    "outputId": "792e012a-8747-404c-db17-50540ac66d7a"
   },
   "outputs": [],
   "source": [
    "cf.go_offline()"
   ]
  },
  {
   "cell_type": "markdown",
   "metadata": {
    "colab_type": "text",
    "id": "m1rebPvwiSsT"
   },
   "source": [
    "`Clique no link \"Export to plot.ly\"`"
   ]
  },
  {
   "cell_type": "code",
   "execution_count": null,
   "metadata": {
    "colab": {
     "base_uri": "https://localhost:8080/",
     "height": 542
    },
    "colab_type": "code",
    "executionInfo": {
     "elapsed": 2417,
     "status": "ok",
     "timestamp": 1557594649000,
     "user": {
      "displayName": "Rodrigo Santana Ferreira",
      "photoUrl": "https://lh5.googleusercontent.com/-w5AmPcUma78/AAAAAAAAAAI/AAAAAAAAAPw/2VfgXe2k7sI/s64/photo.jpg",
      "userId": "14710330936720624047"
     },
     "user_tz": 180
    },
    "id": "64kvagOOiSsU",
    "outputId": "21960021-860f-412d-d99a-6d5637e626f9"
   },
   "outputs": [],
   "source": [
    "df.iplot()"
   ]
  },
  {
   "cell_type": "markdown",
   "metadata": {
    "colab_type": "text",
    "id": "Y00jyL5-iSsX"
   },
   "source": [
    "**Gráficos do tipo scatter**"
   ]
  },
  {
   "cell_type": "code",
   "execution_count": null,
   "metadata": {
    "colab": {
     "base_uri": "https://localhost:8080/",
     "height": 542
    },
    "colab_type": "code",
    "executionInfo": {
     "elapsed": 947,
     "status": "ok",
     "timestamp": 1557594658011,
     "user": {
      "displayName": "Rodrigo Santana Ferreira",
      "photoUrl": "https://lh5.googleusercontent.com/-w5AmPcUma78/AAAAAAAAAAI/AAAAAAAAAPw/2VfgXe2k7sI/s64/photo.jpg",
      "userId": "14710330936720624047"
     },
     "user_tz": 180
    },
    "id": "RBEOqovdiSsY",
    "outputId": "dffc96b9-236e-4966-b9ea-bc8566a24663"
   },
   "outputs": [],
   "source": [
    "df.iplot(kind='scatter', x='A', y='B', title='Disperssão entre a coluna A e B', color='red', mode='markers')"
   ]
  },
  {
   "cell_type": "markdown",
   "metadata": {
    "colab_type": "text",
    "id": "3ZmcY3XoiSsb"
   },
   "source": [
    "**Gráficos de Barras**"
   ]
  },
  {
   "cell_type": "code",
   "execution_count": null,
   "metadata": {},
   "outputs": [],
   "source": [
    "df.head()"
   ]
  },
  {
   "cell_type": "code",
   "execution_count": null,
   "metadata": {},
   "outputs": [],
   "source": [
    "df.sum()"
   ]
  },
  {
   "cell_type": "code",
   "execution_count": null,
   "metadata": {
    "colab": {
     "base_uri": "https://localhost:8080/",
     "height": 542
    },
    "colab_type": "code",
    "executionInfo": {
     "elapsed": 777,
     "status": "ok",
     "timestamp": 1557594680954,
     "user": {
      "displayName": "Rodrigo Santana Ferreira",
      "photoUrl": "https://lh5.googleusercontent.com/-w5AmPcUma78/AAAAAAAAAAI/AAAAAAAAAPw/2VfgXe2k7sI/s64/photo.jpg",
      "userId": "14710330936720624047"
     },
     "user_tz": 180
    },
    "id": "oqNVRNamiSsc",
    "outputId": "50aa4efc-5dce-4d74-dc9f-0ddcb2070100"
   },
   "outputs": [],
   "source": [
    "df.sum().iplot(kind='bar', title='Gráfico de barras')"
   ]
  },
  {
   "cell_type": "markdown",
   "metadata": {
    "colab_type": "text",
    "id": "lsF9f7NIiSsk"
   },
   "source": [
    "**Histogramas**"
   ]
  },
  {
   "cell_type": "markdown",
   "metadata": {
    "colab_type": "text",
    "id": "vCyMUllmiSsl"
   },
   "source": [
    "`Compare com os histograsm padrões do matplotlib e seaborn`"
   ]
  },
  {
   "cell_type": "markdown",
   "metadata": {},
   "source": [
    "`Por padrão tenta definir a quantidade de bins ideais`"
   ]
  },
  {
   "cell_type": "code",
   "execution_count": null,
   "metadata": {
    "colab": {
     "base_uri": "https://localhost:8080/",
     "height": 542
    },
    "colab_type": "code",
    "executionInfo": {
     "elapsed": 1004,
     "status": "ok",
     "timestamp": 1557594698657,
     "user": {
      "displayName": "Rodrigo Santana Ferreira",
      "photoUrl": "https://lh5.googleusercontent.com/-w5AmPcUma78/AAAAAAAAAAI/AAAAAAAAAPw/2VfgXe2k7sI/s64/photo.jpg",
      "userId": "14710330936720624047"
     },
     "user_tz": 180
    },
    "id": "5idLd65AiSsn",
    "outputId": "4d306883-5a3a-4bd8-ac3f-50b61466b514"
   },
   "outputs": [],
   "source": [
    "df['A'].iplot(kind='hist', bins=50, title='Histograma da coluna A')"
   ]
  },
  {
   "cell_type": "markdown",
   "metadata": {
    "colab_type": "text",
    "id": "qqH-MdFGiSss"
   },
   "source": [
    "`Histograma aninhado de todas as colunas (mesmo tipo de dados)`"
   ]
  },
  {
   "cell_type": "code",
   "execution_count": null,
   "metadata": {
    "colab": {},
    "colab_type": "code",
    "id": "7v66WQPAiSst",
    "outputId": "2fe1d472-4766-4202-f6f5-1d6a1710dff6"
   },
   "outputs": [],
   "source": [
    "df.iplot(kind='hist',title='Histograma aninhado')"
   ]
  },
  {
   "cell_type": "markdown",
   "metadata": {
    "colab_type": "text",
    "id": "VJooIfe1iSs4"
   },
   "source": [
    "**Bubble Plots**"
   ]
  },
  {
   "cell_type": "markdown",
   "metadata": {},
   "source": [
    "`Permite uma visualização de 3 variáveis.`"
   ]
  },
  {
   "cell_type": "code",
   "execution_count": null,
   "metadata": {
    "colab": {},
    "colab_type": "code",
    "id": "MfKAi3cwiSs5",
    "outputId": "5a0554a9-140d-4a51-8f4c-6f20fbf40f2e"
   },
   "outputs": [],
   "source": [
    "df.iplot(kind='bubble', x='A',y='B', size='C', colors='seagreen')"
   ]
  },
  {
   "cell_type": "markdown",
   "metadata": {
    "colab_type": "text",
    "id": "m0vaHtqyiSs9"
   },
   "source": [
    "**Scatter Matrix**"
   ]
  },
  {
   "cell_type": "markdown",
   "metadata": {
    "colab_type": "text",
    "id": "q_8zaoSCiSs-"
   },
   "source": [
    "- `Similar ao pairplot do Seaborn`\n",
    "-  `Se o dataframe for muito grande pode travar o seu notebook`"
   ]
  },
  {
   "cell_type": "code",
   "execution_count": null,
   "metadata": {
    "colab": {},
    "colab_type": "code",
    "id": "p_zE1p4QiSs_",
    "outputId": "bc31bde5-1acb-42de-9719-e756c08b780e"
   },
   "outputs": [],
   "source": [
    "df.scatter_matrix()"
   ]
  },
  {
   "cell_type": "markdown",
   "metadata": {
    "colab_type": "text",
    "id": "KMvW1ZaYiStG"
   },
   "source": [
    "## Visualização de dados de vendas ##"
   ]
  },
  {
   "cell_type": "markdown",
   "metadata": {},
   "source": [
    "**Importe o pandas**"
   ]
  },
  {
   "cell_type": "code",
   "execution_count": null,
   "metadata": {},
   "outputs": [],
   "source": [
    "import pandas as pd"
   ]
  },
  {
   "cell_type": "markdown",
   "metadata": {},
   "source": [
    "**Dataset de Vendas da Olist**"
   ]
  },
  {
   "cell_type": "markdown",
   "metadata": {},
   "source": [
    "- O dataset já está disponível no diretório datasets. Não é necessário download.\n",
    "- Se quiser conhecer mais sobre esse dataset, segue o link https://www.kaggle.com/olistbr/brazilian-ecommerce/version/2"
   ]
  },
  {
   "cell_type": "code",
   "execution_count": null,
   "metadata": {
    "colab": {},
    "colab_type": "code",
    "id": "RSEX7367iStH"
   },
   "outputs": [],
   "source": [
    "df = pd.read_csv('datasets/olist_classified_public_dataset.csv')"
   ]
  },
  {
   "cell_type": "markdown",
   "metadata": {},
   "source": [
    "**Visualizando a base de dados**"
   ]
  },
  {
   "cell_type": "code",
   "execution_count": null,
   "metadata": {
    "colab": {},
    "colab_type": "code",
    "id": "REH3E2a2iStJ",
    "outputId": "c883889b-756f-497e-93db-17785d23caa3"
   },
   "outputs": [],
   "source": [
    "df.head()"
   ]
  },
  {
   "cell_type": "code",
   "execution_count": null,
   "metadata": {},
   "outputs": [],
   "source": [
    "df.info()"
   ]
  },
  {
   "cell_type": "markdown",
   "metadata": {},
   "source": [
    "## Perguntas aos dados"
   ]
  },
  {
   "cell_type": "markdown",
   "metadata": {},
   "source": [
    "- Quais a distribuicao dos status dos pedidos?\n",
    "- Quais os meses do ano houve mais vendas?\n",
    "- Qual a quantidade de items de um pedido? (medio)\n",
    "- Qual a quantidade de vendedores em um pedido ? (medio)\n",
    "- O valor do frete tende aumentar com o preco do produto?\n",
    "- Qual o tempo medio de entrega?\n",
    "- Como foi as vendas por mês?\n",
    "- Quais meses superaram a meta de vendas?\n",
    "- Como foi a venda por mês se comparado ao ano de 2016?"
   ]
  },
  {
   "cell_type": "code",
   "execution_count": null,
   "metadata": {
    "colab": {},
    "colab_type": "code",
    "id": "RluLdJ_BiStQ",
    "outputId": "0964be2e-8b45-40f2-9f1a-5554d1361d13"
   },
   "outputs": [],
   "source": [
    "df.order_status.value_counts().iplot(kind='bar', title='Status dos pedidos')"
   ]
  },
  {
   "cell_type": "markdown",
   "metadata": {},
   "source": [
    "**Transformando colunas para o formato datetime**"
   ]
  },
  {
   "cell_type": "code",
   "execution_count": null,
   "metadata": {
    "colab": {},
    "colab_type": "code",
    "id": "P58W7uRkiStY"
   },
   "outputs": [],
   "source": [
    "df.order_purchase_timestamp = pd.to_datetime(df.order_purchase_timestamp)"
   ]
  },
  {
   "cell_type": "markdown",
   "metadata": {},
   "source": [
    "**Visualizando as colunas agora em Datetime**"
   ]
  },
  {
   "cell_type": "code",
   "execution_count": null,
   "metadata": {},
   "outputs": [],
   "source": [
    "df.info()"
   ]
  },
  {
   "cell_type": "markdown",
   "metadata": {},
   "source": [
    "- Use o metodo to_periodo() com o ´M´ para obter informações no formato de meses\n",
    "- Criando a coluna order_purchase_month"
   ]
  },
  {
   "cell_type": "code",
   "execution_count": null,
   "metadata": {},
   "outputs": [],
   "source": [
    "df['order_purchase_month'] = df.order_purchase_timestamp.dt.to_period('M').astype(str)"
   ]
  },
  {
   "cell_type": "code",
   "execution_count": null,
   "metadata": {},
   "outputs": [],
   "source": [
    "df.order_purchase_month.head()"
   ]
  },
  {
   "cell_type": "markdown",
   "metadata": {},
   "source": [
    "**Visualizando a nova coluna no dataframe**"
   ]
  },
  {
   "cell_type": "code",
   "execution_count": null,
   "metadata": {},
   "outputs": [],
   "source": [
    "df.head()"
   ]
  },
  {
   "cell_type": "markdown",
   "metadata": {},
   "source": [
    "**Cria a variável `vendas_por_mes` que é a soma do valor dos produtos agrupados por mês**"
   ]
  },
  {
   "cell_type": "code",
   "execution_count": null,
   "metadata": {},
   "outputs": [],
   "source": [
    "vendas_por_mes = df.groupby(by='order_purchase_month').order_products_value.sum()"
   ]
  },
  {
   "cell_type": "code",
   "execution_count": null,
   "metadata": {},
   "outputs": [],
   "source": [
    "type(vendas_por_mes)"
   ]
  },
  {
   "cell_type": "code",
   "execution_count": null,
   "metadata": {},
   "outputs": [],
   "source": [
    "vendas_por_mes.head()"
   ]
  },
  {
   "cell_type": "markdown",
   "metadata": {},
   "source": [
    "**visualizando os valores de vendas por mês**"
   ]
  },
  {
   "cell_type": "code",
   "execution_count": null,
   "metadata": {},
   "outputs": [],
   "source": [
    "vendas_por_mes.head()"
   ]
  },
  {
   "cell_type": "markdown",
   "metadata": {},
   "source": [
    "**Pontos importantes a lembrar:**\n",
    "- init_notebook_mode()\n",
    "- plotly.offline.iplot()"
   ]
  },
  {
   "cell_type": "markdown",
   "metadata": {},
   "source": [
    "**Importando o plotly**"
   ]
  },
  {
   "cell_type": "code",
   "execution_count": null,
   "metadata": {},
   "outputs": [],
   "source": [
    "import plotly\n",
    "import plotly.graph_objs as go"
   ]
  },
  {
   "cell_type": "markdown",
   "metadata": {},
   "source": [
    "`plotly.graph_objs é o responsavel por manipular todos os métodos dos gráficos.`"
   ]
  },
  {
   "cell_type": "code",
   "execution_count": null,
   "metadata": {},
   "outputs": [],
   "source": [
    "# habilita o modo offline\n",
    "plotly.offline.init_notebook_mode(connected=True)"
   ]
  },
  {
   "cell_type": "markdown",
   "metadata": {},
   "source": [
    "**Vendas por mês**"
   ]
  },
  {
   "cell_type": "markdown",
   "metadata": {},
   "source": [
    "- **por padrão o iplot() plota um gráfico de linha, da sentido de valor acumulado**"
   ]
  },
  {
   "cell_type": "code",
   "execution_count": null,
   "metadata": {},
   "outputs": [],
   "source": [
    "import plotly.offline as py\n",
    "import plotly.graph_objs as go\n",
    "\n",
    "data = [go.Scatter(x=vendas_por_mes.index,\n",
    "                   y=vendas_por_mes.values)]\n",
    "\n",
    "py.iplot(data)"
   ]
  },
  {
   "cell_type": "markdown",
   "metadata": {},
   "source": [
    "**Gráfico de Barras**"
   ]
  },
  {
   "cell_type": "markdown",
   "metadata": {},
   "source": [
    "- **Customizando graficos de barras: titulos e labels dos eixos**"
   ]
  },
  {
   "cell_type": "code",
   "execution_count": null,
   "metadata": {},
   "outputs": [],
   "source": [
    "import plotly.offline as py\n",
    "import plotly.graph_objs as go\n",
    "\n",
    "data = [go.Bar(x=vendas_por_mes.index,\n",
    "               y=vendas_por_mes.values,\n",
    "               marker = {'color': 'lightblue'})]\n",
    "\n",
    "# Criando Layout\n",
    "configuracoes_layout = go.Layout(title='Vendas no Periodo',\n",
    "                                 yaxis={'title':'Valores em Vendas'},\n",
    "                                 xaxis={'title': 'Periodo'})\n",
    "\n",
    "# Objeto figura\n",
    "\n",
    "fig = go.Figure(data=data, layout=configuracoes_layout)\n",
    "\n",
    "# plotando o grafico\n",
    "py.iplot(fig)"
   ]
  },
  {
   "cell_type": "markdown",
   "metadata": {},
   "source": [
    "**Definindo ajustes em linhas e cores**"
   ]
  },
  {
   "cell_type": "markdown",
   "metadata": {},
   "source": [
    "- **Parâmetro opacity e width**"
   ]
  },
  {
   "cell_type": "code",
   "execution_count": null,
   "metadata": {},
   "outputs": [],
   "source": [
    "import plotly.offline as py\n",
    "import plotly.graph_objs as go\n",
    "\n",
    "data = [go.Bar(x=vendas_por_mes.index,\n",
    "               y=vendas_por_mes.values,\n",
    "               marker = {'color': 'lightblue',\n",
    "                         'line': {'color': '#333',\n",
    "                                  'width': 2}\n",
    "                        },\n",
    "               opacity= 0.7\n",
    "              )\n",
    "       ]\n",
    "\n",
    "# Criando Layout\n",
    "configuracoes_layout = go.Layout(title='Vendas no Periodo',\n",
    "                                 yaxis={'title':'Valores em Vendas'},\n",
    "                                 xaxis={'title':'Periodo'})\n",
    "\n",
    "# Objeto figura\n",
    "\n",
    "fig = go.Figure(data=data, layout=configuracoes_layout)\n",
    "\n",
    "# plotando o grafico\n",
    "py.iplot(fig)"
   ]
  },
  {
   "cell_type": "markdown",
   "metadata": {},
   "source": [
    "**Destacando uma barras**"
   ]
  },
  {
   "cell_type": "code",
   "execution_count": null,
   "metadata": {},
   "outputs": [],
   "source": [
    "cores = []"
   ]
  },
  {
   "cell_type": "markdown",
   "metadata": {},
   "source": [
    "**Valor de média para ser testado**"
   ]
  },
  {
   "cell_type": "code",
   "execution_count": null,
   "metadata": {},
   "outputs": [],
   "source": [
    "media = vendas_por_mes.values.mean()"
   ]
  },
  {
   "cell_type": "code",
   "execution_count": null,
   "metadata": {},
   "outputs": [],
   "source": [
    "media"
   ]
  },
  {
   "cell_type": "markdown",
   "metadata": {},
   "source": [
    "**Alimentando a lista de cores**"
   ]
  },
  {
   "cell_type": "code",
   "execution_count": null,
   "metadata": {},
   "outputs": [],
   "source": [
    "# se o valor de vendas do mês for menor que a média a lista de cor será vermelha, senão azul.\n",
    "for x in vendas_por_mes.values:\n",
    "    if x < media:\n",
    "        cores.append('red')\n",
    "    else:\n",
    "        cores.append('lightblue')"
   ]
  },
  {
   "cell_type": "markdown",
   "metadata": {},
   "source": [
    "**Visualizando a lista de cores**"
   ]
  },
  {
   "cell_type": "code",
   "execution_count": null,
   "metadata": {},
   "outputs": [],
   "source": [
    "cores"
   ]
  },
  {
   "cell_type": "markdown",
   "metadata": {},
   "source": [
    "**Gráficos de Vendas no Periodo**"
   ]
  },
  {
   "cell_type": "code",
   "execution_count": null,
   "metadata": {},
   "outputs": [],
   "source": [
    "import plotly.offline as py\n",
    "import plotly.graph_objs as go\n",
    "\n",
    "data = [go.Bar(x=vendas_por_mes.index,\n",
    "               y=vendas_por_mes.values,\n",
    "               marker = {'color': cores,  #lista de cores\n",
    "                         'line': {'color': '#333',\n",
    "                                  'width': 2}\n",
    "                        },\n",
    "               opacity= 0.7\n",
    "              )\n",
    "       ]\n",
    "\n",
    "# Criando Layout\n",
    "configuracoes_layout = go.Layout(title='Vendas no Periodo',\n",
    "                                 yaxis={'title':'Valores em Vendas'},\n",
    "                                 xaxis={'title':'Periodo'})\n",
    "\n",
    "# Objeto figura\n",
    "\n",
    "fig = go.Figure(data=data, layout=configuracoes_layout)\n",
    "\n",
    "# plotando o grafico\n",
    "pyo.plot(fig, filename='Meses que nao superaram a meta de vendas')"
   ]
  },
  {
   "cell_type": "markdown",
   "metadata": {},
   "source": [
    "**Destaca a barra com o maior valor e minimiza a visao de todas as outras**"
   ]
  },
  {
   "cell_type": "code",
   "execution_count": null,
   "metadata": {},
   "outputs": [],
   "source": [
    "maximo_de_vendas = vendas_por_mes.values.max()"
   ]
  },
  {
   "cell_type": "code",
   "execution_count": null,
   "metadata": {},
   "outputs": [],
   "source": [
    "maximo_de_vendas"
   ]
  },
  {
   "cell_type": "markdown",
   "metadata": {},
   "source": [
    "**Alimenta a lista de cores**"
   ]
  },
  {
   "cell_type": "code",
   "execution_count": null,
   "metadata": {},
   "outputs": [],
   "source": [
    "cores = []\n",
    "for x,y in zip(vendas_por_mes.values, vendas_por_mes.index):\n",
    "    if x == maximo_de_vendas:\n",
    "        mes_maximo_de_vendas = y\n",
    "        cores.append('blue')\n",
    "    else:\n",
    "        cores.append('lightgray')"
   ]
  },
  {
   "cell_type": "code",
   "execution_count": null,
   "metadata": {},
   "outputs": [],
   "source": [
    "mes_maximo_de_vendas"
   ]
  },
  {
   "cell_type": "code",
   "execution_count": null,
   "metadata": {},
   "outputs": [],
   "source": [
    "cores"
   ]
  },
  {
   "cell_type": "markdown",
   "metadata": {},
   "source": [
    "**Plota o gráfico de vendas com um destaque de cor e anotação para o mês que teve mais vendas**"
   ]
  },
  {
   "cell_type": "code",
   "execution_count": null,
   "metadata": {},
   "outputs": [],
   "source": [
    "import plotly.offline as py\n",
    "import plotly.graph_objs as go\n",
    "\n",
    "data = [go.Bar(x=vendas_por_mes.index,\n",
    "               y=vendas_por_mes.values,\n",
    "               marker = {'color': cores,\n",
    "                         'line': {'color': '#333',\n",
    "                                 'width': 2}\n",
    "                        },\n",
    "               opacity= 0.7\n",
    "              )\n",
    "       ]\n",
    "\n",
    "# Criando Layout\n",
    "configuracoes_layout = go.Layout(title='Vendas no Periodo',\n",
    "                                 yaxis={'title':'Valores em Vendas'},\n",
    "                                 xaxis={'title': 'Periodo'},\n",
    "                                 # texto na barra de destaque\n",
    "                                 annotations = [{'text':'Mês destaque de vendas',\n",
    "                                                'x':mes_maximo_de_vendas,\n",
    "                                                'y':maximo_de_vendas}\n",
    "                                               ]\n",
    "                                                                                              \n",
    "                                )\n",
    "\n",
    "# Objeto figura\n",
    "\n",
    "fig = go.Figure(data=data, layout=configuracoes_layout)\n",
    "\n",
    "# plotando o grafico\n",
    "pyo.plot(fig, filename='Mes destaque de vendas')"
   ]
  },
  {
   "cell_type": "markdown",
   "metadata": {},
   "source": [
    "**Visualizando duas informações no mesmo gráfico**"
   ]
  },
  {
   "cell_type": "markdown",
   "metadata": {},
   "source": [
    "- `Vamos definir alguns valores ficticios para vendas do ano anterior`"
   ]
  },
  {
   "cell_type": "code",
   "execution_count": null,
   "metadata": {},
   "outputs": [],
   "source": [
    "vendas_ano_anterior = vendas_por_mes - 10000.00"
   ]
  },
  {
   "cell_type": "markdown",
   "metadata": {},
   "source": [
    "**Gráfico de barras aninhadas**"
   ]
  },
  {
   "cell_type": "code",
   "execution_count": null,
   "metadata": {},
   "outputs": [],
   "source": [
    "import plotly.offline as py\n",
    "import plotly.graph_objs as go\n",
    "\n",
    "data = [go.Bar(x=vendas_por_mes.index,\n",
    "               y=vendas_por_mes.values,\n",
    "               marker = {'color': cores,\n",
    "                         'line': {'color': '#333',\n",
    "                                  'width': 2}\n",
    "                        },\n",
    "               opacity= 0.7,\n",
    "               name='2017'\n",
    "              ),\n",
    "# definindo outro plot de barras com valores dos meses passados\n",
    "        \n",
    "        go.Bar(x=vendas_ano_anterior.index,\n",
    "               y=vendas_ano_anterior.values,\n",
    "               name='2016',\n",
    "               marker = {'color': 'lightgreen',\n",
    "                         'line': {'color': '#333',\n",
    "                                  'width': 2}\n",
    "                        },\n",
    "               opacity= 0.7\n",
    "              )\n",
    "              \n",
    "       ]\n",
    "\n",
    "# Criando Layout\n",
    "configuracoes_layout = go.Layout(title='Vendas no Periodo',\n",
    "                                 yaxis={'title':'Valores em Vendas'},\n",
    "                                 xaxis={'title': 'Periodo'},\n",
    "                                 annotations = [{'text':'Mês destaque de vendas',\n",
    "                                                'x':mes_maximo_de_vendas,\n",
    "                                                'y':maximo_de_vendas}\n",
    "                                               ]                       \n",
    "                                \n",
    "                                )\n",
    "\n",
    "# Objeto figura\n",
    "\n",
    "fig = go.Figure(data=data, layout=configuracoes_layout)\n",
    "\n",
    "# plotando o grafico\n",
    "pyo.plot(fig, filename='Vendas no periodo 2017 e 2016')"
   ]
  },
  {
   "cell_type": "markdown",
   "metadata": {},
   "source": [
    "**Vendas por categorias de produtos**\n",
    "- **Conta quantos produtos por categoria e coloca dentro da variável vendas_produto_por_categoria**"
   ]
  },
  {
   "cell_type": "code",
   "execution_count": null,
   "metadata": {},
   "outputs": [],
   "source": [
    "vendas_produto_por_categoria =  df.groupby(by='product_category_name').id.count()"
   ]
  },
  {
   "cell_type": "code",
   "execution_count": null,
   "metadata": {},
   "outputs": [],
   "source": [
    "vendas_produto_por_categoria"
   ]
  },
  {
   "cell_type": "markdown",
   "metadata": {},
   "source": [
    "**Filtra categorias com quantidade de vendas maiores que 1**"
   ]
  },
  {
   "cell_type": "code",
   "execution_count": null,
   "metadata": {},
   "outputs": [],
   "source": [
    "vendas_produto_por_categoria = vendas_produto_por_categoria.loc[vendas_produto_por_categoria.values >1]"
   ]
  },
  {
   "cell_type": "markdown",
   "metadata": {},
   "source": [
    "**Ordena valores do maior para o menor**"
   ]
  },
  {
   "cell_type": "code",
   "execution_count": null,
   "metadata": {},
   "outputs": [],
   "source": [
    "vendas_produto_por_categoria.sort_values(ascending=False,inplace=True)"
   ]
  },
  {
   "cell_type": "markdown",
   "metadata": {},
   "source": [
    "**Plota gráfico de barras verticais**"
   ]
  },
  {
   "cell_type": "code",
   "execution_count": null,
   "metadata": {},
   "outputs": [],
   "source": [
    "import plotly.offline as py\n",
    "import plotly.graph_objs as go\n",
    "\n",
    "trace0 = go.Bar(y=vendas_produto_por_categoria.values,\n",
    "                x=vendas_produto_por_categoria.index,\n",
    "                marker = {'color': '#00FF2A'},\n",
    "                orientation='v'\n",
    "              )\n",
    "\n",
    "data = [trace0]\n",
    "\n",
    "# Criando Layout\n",
    "configuracoes_layout = go.Layout(title='Vendas por categoria de Produtos',\n",
    "                   xaxis=dict(titlefont=dict(size=20,color='lightgrey'),tickangle=55),\n",
    "                   yaxis={'title': 'Quantidade vendida'})\n",
    "\n",
    "# Objeto figura\n",
    "\n",
    "fig = go.Figure(data=data, layout=configuracoes_layout)\n",
    "\n",
    "# plotando o grafico\n",
    "py.iplot(fig)"
   ]
  },
  {
   "cell_type": "markdown",
   "metadata": {},
   "source": [
    "**Alterando Faixa de valores dos eixos somando 10% ao valor máximo**"
   ]
  },
  {
   "cell_type": "code",
   "execution_count": null,
   "metadata": {},
   "outputs": [],
   "source": [
    "max(vendas_produto_por_categoria.values)"
   ]
  },
  {
   "cell_type": "code",
   "execution_count": null,
   "metadata": {},
   "outputs": [],
   "source": [
    "max(vendas_produto_por_categoria.values) * 1.10"
   ]
  },
  {
   "cell_type": "code",
   "execution_count": null,
   "metadata": {
    "scrolled": false
   },
   "outputs": [],
   "source": [
    "import plotly.offline as py\n",
    "import plotly.graph_objs as go\n",
    "\n",
    "trace0 = go.Bar(y=vendas_produto_por_categoria.values,\n",
    "                x=vendas_produto_por_categoria.index,\n",
    "                marker = {'color': '#00FF2A'},\n",
    "                orientation='v'\n",
    "              )\n",
    "\n",
    "data = [trace0]\n",
    "\n",
    "# Criando Layout\n",
    "configuracoes_layout = go.Layout(title='Vendas por categoria de Produtos',\n",
    "                   xaxis=dict(\n",
    "                         titlefont=dict(\n",
    "                                   size=15,\n",
    "                                   color='lightgrey'),\n",
    "                                   tickangle=45),\n",
    "                   \n",
    "                   # valor maximo da faixa + 10%\n",
    "                   yaxis={'title': 'Quantidade vendida',\n",
    "                          'range':[0,max(vendas_produto_por_categoria.values) * 1.10]\n",
    "                         })\n",
    "\n",
    "# Objeto figura\n",
    "\n",
    "fig = go.Figure(data=data, layout=configuracoes_layout)\n",
    "                   \n",
    "# plotando o grafico\n",
    "pyo.plot(fig, filename='Vendas por categoria de Produtos')"
   ]
  },
  {
   "cell_type": "markdown",
   "metadata": {},
   "source": [
    "**Valor de Frete vs Valor de Produto: Existe alguma tendencia?**"
   ]
  },
  {
   "cell_type": "code",
   "execution_count": null,
   "metadata": {},
   "outputs": [],
   "source": [
    "# Criando gráfico\n",
    "trace = go.Scatter(x = df['order_freight_value'],\n",
    "                   y = df['order_products_value'],\n",
    "                   mode = 'markers',\n",
    "                   marker = {'color':'#941229'}\n",
    "                  )\n",
    "# Armazenando gráfico em uma lista\n",
    "data = [trace]\n",
    "\n",
    "# Criando Layout\n",
    "layout = go.Layout(title='Valor de Frete x Valor de Produto',\n",
    "                   yaxis={'title':'Valor do Produto'},\n",
    "                   xaxis={'title': 'Valor do Frete'})\n",
    "\n",
    "# Criando figura que será exibida\n",
    "fig = go.Figure(data=data, layout=layout)\n",
    "\n",
    "py.iplot(fig)"
   ]
  },
  {
   "cell_type": "markdown",
   "metadata": {},
   "source": [
    "**Usando o parâmetro text na visualização (parâmetro hover)**"
   ]
  },
  {
   "cell_type": "code",
   "execution_count": null,
   "metadata": {},
   "outputs": [],
   "source": [
    "# Criando gráfico\n",
    "trace = go.Scatter(x = df['order_freight_value'],\n",
    "                   y = df['order_products_value'],\n",
    "                   mode = 'markers',\n",
    "                   # customização do texto a ser exibido no hover\n",
    "                   text = 'Status do pedido: '+ df['order_status'] +\n",
    "                           '<br>' + 'Classe: '+ df['most_voted_class']\n",
    "                   ,\n",
    "                   # exibição do hover\n",
    "                   hoverinfo='text+x+y',\n",
    "                   marker = {'color':'#941229'}\n",
    "                  )\n",
    "# Armazenando gráfico em uma lista\n",
    "data = [trace]\n",
    "\n",
    "# Criando Layout\n",
    "layout = go.Layout(title='Valor de Frete x Valor de Produto',\n",
    "                   yaxis={'title':'Valor do Produto'},\n",
    "                   xaxis={'title': 'Valor do Frete'})\n",
    "\n",
    "# Criando figura que será exibida\n",
    "fig = go.Figure(data=data, layout=layout)\n",
    "\n",
    "py.iplot(fig)"
   ]
  },
  {
   "cell_type": "markdown",
   "metadata": {},
   "source": [
    "**Customizacao dos eixos com formato em reais R$**"
   ]
  },
  {
   "cell_type": "code",
   "execution_count": null,
   "metadata": {},
   "outputs": [],
   "source": [
    "import plotly.plotly as pyo\n",
    "# Criando gráfico\n",
    "trace = go.Scatter(x = df['order_freight_value'],\n",
    "                   y = df['order_products_value'],\n",
    "                   mode = 'markers',\n",
    "                   # customização do texto a ser exibido no hover\n",
    "                   text = 'Status do pedido: '+ df['order_status'] +\n",
    "                           '<br>' + 'Classe: '+ df['most_voted_class']\n",
    "                   ,\n",
    "                   # exibição do hover\n",
    "                   hoverinfo='text+x+y',\n",
    "                   marker = {'color':'#941229'}\n",
    "                  )\n",
    "# Armazenando gráfico em uma lista\n",
    "data = [trace]\n",
    "\n",
    "# Criando Layout\n",
    "layout = go.Layout(title='Valor de Frete x Valor de Produto',\n",
    "\n",
    "                   # Definindo exibicao dos eixos x e y\n",
    "                   yaxis={'title':'Valor do Produto', \n",
    "                          'tickformat':'.', \n",
    "                          'tickprefix':'R$ '},\n",
    "                   xaxis={'title': 'Valor do Frete',\n",
    "                          'tickformat':'.', \n",
    "                          'tickprefix':'R$ '})\n",
    "\n",
    "# Criando figura que será exibida\n",
    "fig = go.Figure(data=data, layout=layout)\n",
    "\n",
    "pyo.plot(fig)"
   ]
  },
  {
   "cell_type": "markdown",
   "metadata": {},
   "source": [
    "**Plotando um gráfico de pizzaa**\n",
    "- **Qual a distribuição da classificação dos pedidos pelos clientes?**"
   ]
  },
  {
   "cell_type": "code",
   "execution_count": null,
   "metadata": {},
   "outputs": [],
   "source": [
    "classes_mais_votadas = df.most_voted_class.value_counts()"
   ]
  },
  {
   "cell_type": "code",
   "execution_count": null,
   "metadata": {},
   "outputs": [],
   "source": [
    "# Criando gráfico\n",
    "\n",
    "trace = go.Pie(labels = classes_mais_votadas.index,\n",
    "               values = classes_mais_votadas.values\n",
    "              )\n",
    "\n",
    "# Armazenando gráfico em uma lista\n",
    "\n",
    "data = [trace]\n",
    "\n",
    "# Criando Layout\n",
    "\n",
    "layout = go.Layout(title='Classificação de Clientes sobre Pedidos')\n",
    "\n",
    "# Criando figura que será exibida\n",
    "fig = go.Figure(data=data, layout=layout)\n",
    "\n",
    "py.iplot(fig)"
   ]
  },
  {
   "cell_type": "markdown",
   "metadata": {},
   "source": [
    "**Parametro direction**"
   ]
  },
  {
   "cell_type": "code",
   "execution_count": null,
   "metadata": {},
   "outputs": [],
   "source": [
    "# Criando gráfico\n",
    "\n",
    "trace = go.Pie(labels = classes_mais_votadas.index,\n",
    "               values = classes_mais_votadas.values,\n",
    "               direction='clockwise'\n",
    "              )\n",
    "\n",
    "# Armazenando gráfico em uma lista\n",
    "\n",
    "data = [trace]\n",
    "\n",
    "# Criando Layout\n",
    "\n",
    "layout = go.Layout(title='Classificação de Clientes sobre Pedidos')\n",
    "\n",
    "# Criando figura que será exibida\n",
    "fig = go.Figure(data=data, layout=layout)\n",
    "\n",
    "py.iplot(fig)"
   ]
  },
  {
   "cell_type": "markdown",
   "metadata": {},
   "source": [
    "**Customizando gráficos de pizza**"
   ]
  },
  {
   "cell_type": "code",
   "execution_count": null,
   "metadata": {},
   "outputs": [],
   "source": [
    "# Criando gráfico\n",
    "\n",
    "# ordem do maior valor para o menor\n",
    "cores = ['#96D38C','#FEBFB3','#E1396C']\n",
    "\n",
    "\n",
    "trace = go.Pie(labels = classes_mais_votadas.index,\n",
    "               values = classes_mais_votadas.values,\n",
    "               marker = {'colors': cores},\n",
    "               direction='clockwise'\n",
    "              )\n",
    "\n",
    "# Armazenando gráfico em uma lista\n",
    "\n",
    "data = [trace]\n",
    "\n",
    "# Criando Layout\n",
    "\n",
    "layout = go.Layout(title='Classificação de Clientes sobre Pedidos')\n",
    "\n",
    "# Criando figura que será exibida\n",
    "fig = go.Figure(data=data, layout=layout)\n",
    "\n",
    "py.iplot(fig)"
   ]
  },
  {
   "cell_type": "markdown",
   "metadata": {},
   "source": [
    "**Adicionando linha de contorno, cores**"
   ]
  },
  {
   "cell_type": "code",
   "execution_count": null,
   "metadata": {},
   "outputs": [],
   "source": [
    "# Criando gráfico\n",
    "\n",
    "# ordem do maior valor para o menor\n",
    "cores = ['#96D38C','#FEBFB3','#E1396C']\n",
    "\n",
    "\n",
    "trace = go.Pie(labels = classes_mais_votadas.index,\n",
    "               values = classes_mais_votadas.values,\n",
    "               marker = {'colors': cores, \n",
    "                         'line' : {'color':'#000000','width':2}\n",
    "                        },\n",
    "               hoverinfo='label+percent+value',\n",
    "               direction='clockwise'\n",
    "              )\n",
    "\n",
    "# Armazenando gráfico em uma lista\n",
    "\n",
    "data = [trace]\n",
    "\n",
    "# Criando Layout\n",
    "\n",
    "layout = go.Layout(title='Classificação de Clientes sobre Pedidos')\n",
    "\n",
    "# Criando figura que será exibida\n",
    "fig = go.Figure(data=data, layout=layout)\n",
    "\n",
    "py.iplot(fig)"
   ]
  },
  {
   "cell_type": "markdown",
   "metadata": {},
   "source": [
    "**Destacando porções do gráfico**"
   ]
  },
  {
   "cell_type": "code",
   "execution_count": null,
   "metadata": {},
   "outputs": [],
   "source": [
    "# Criando gráfico\n",
    "import plotly.plotly as pyo\n",
    "\n",
    "# ordem do maior valor para o menor\n",
    "cores = ['#96D38C','#FEBFB3','#E1396C']\n",
    "\n",
    "\n",
    "trace = go.Pie(labels = classes_mais_votadas.index,\n",
    "               values = classes_mais_votadas.values,\n",
    "               marker = {'colors': cores, \n",
    "                         'line' : {'color':'#000000','width':2}\n",
    "                        },\n",
    "               hoverinfo='label+percent+value',\n",
    "               pull=[0,0,0.1],\n",
    "               direction='clockwise'\n",
    "              )\n",
    "\n",
    "# Armazenando gráfico em uma lista\n",
    "\n",
    "data = [trace]\n",
    "\n",
    "# Criando Layout\n",
    "\n",
    "layout = go.Layout(title='Classificação de Clientes sobre Pedidos')\n",
    "\n",
    "# Criando figura que será exibida\n",
    "fig = go.Figure(data=data, layout=layout)\n",
    "\n",
    "pyo.plot(fig)"
   ]
  },
  {
   "cell_type": "markdown",
   "metadata": {},
   "source": [
    "## Trabalhando com dados financeiros."
   ]
  },
  {
   "cell_type": "markdown",
   "metadata": {},
   "source": [
    "- `Séries temporais`\n",
    "- `Dados de Ações ou ativos do mercado financeiro.`"
   ]
  },
  {
   "cell_type": "code",
   "execution_count": null,
   "metadata": {},
   "outputs": [],
   "source": [
    "import pandas as pd\n",
    "df = pd.read_csv(\"https://raw.githubusercontent.com/plotly/datasets/master/finance-charts-apple.csv\")"
   ]
  },
  {
   "cell_type": "code",
   "execution_count": null,
   "metadata": {},
   "outputs": [],
   "source": [
    "df.head()"
   ]
  },
  {
   "cell_type": "code",
   "execution_count": null,
   "metadata": {},
   "outputs": [],
   "source": [
    "import plotly.offline as py\n",
    "import plotly.graph_objs as go\n",
    "\n",
    "import pandas as pd\n",
    "\n",
    "df = pd.read_csv(\"https://raw.githubusercontent.com/plotly/datasets/master/finance-charts-apple.csv\")\n",
    "\n",
    "data = [go.Scatter(\n",
    "          x=df.Date,\n",
    "          y=df['AAPL.Close'])]\n",
    "\n",
    "py.iplot(data)"
   ]
  },
  {
   "cell_type": "markdown",
   "metadata": {},
   "source": [
    "**Customizando Faixas de Eixos (Range)**"
   ]
  },
  {
   "cell_type": "markdown",
   "metadata": {},
   "source": [
    "**Rangeslider e Rangeselector**"
   ]
  },
  {
   "cell_type": "code",
   "execution_count": null,
   "metadata": {},
   "outputs": [],
   "source": [
    "import plotly.offline as py\n",
    "import plotly.graph_objs as go\n",
    "\n",
    "import pandas as pd\n",
    "\n",
    "df = pd.read_csv(\"https://raw.githubusercontent.com/plotly/datasets/master/finance-charts-apple.csv\")\n",
    "\n",
    "trace_high = go.Scatter(\n",
    "    x=df.Date,\n",
    "    y=df['AAPL.High'],\n",
    "    name = \"AAPL High\",\n",
    "    line = dict(color = '#17BECF'),\n",
    "    opacity = 0.8)\n",
    "\n",
    "trace_low = go.Scatter(\n",
    "    x=df.Date,\n",
    "    y=df['AAPL.Low'],\n",
    "    name = \"AAPL Low\",\n",
    "    line = dict(color = '#7F7F7F'),\n",
    "    opacity = 0.8)\n",
    "\n",
    "data = [trace_high,trace_low]\n",
    "\n",
    "layout = dict(\n",
    "    title=\"Série com Rangeslider e Botoes\",\n",
    "    xaxis=dict(\n",
    "        rangeselector=dict(\n",
    "            buttons=list([\n",
    "                dict(count=1,\n",
    "                     label='1m',\n",
    "                     step='month',\n",
    "                     stepmode='backward'),\n",
    "                dict(count=6,\n",
    "                     label='6m',\n",
    "                     step='month',\n",
    "                     stepmode='backward'),\n",
    "                dict(step='all')\n",
    "            ])\n",
    "        ),\n",
    "        rangeslider=dict(\n",
    "            visible = True\n",
    "        ),\n",
    "        type='date'\n",
    "    )\n",
    ")\n",
    "\n",
    "fig = dict(data=data, layout=layout)\n",
    "py.iplot(fig)"
   ]
  },
  {
   "cell_type": "markdown",
   "metadata": {},
   "source": [
    "**Inserindo anotações**"
   ]
  },
  {
   "cell_type": "code",
   "execution_count": null,
   "metadata": {},
   "outputs": [],
   "source": [
    "import plotly.offline as py\n",
    "import plotly.graph_objs as go\n",
    "\n",
    "import pandas as pd\n",
    "from datetime import datetime\n",
    "\n",
    "df = pd.read_csv('https://raw.githubusercontent.com/plotly/datasets/master/finance-charts-apple.csv')\n",
    "\n",
    "trace = go.Candlestick(x=df['Date'],\n",
    "                open=df['AAPL.Open'],\n",
    "                high=df['AAPL.High'],\n",
    "                low=df['AAPL.Low'],\n",
    "                close=df['AAPL.Close'])\n",
    "data = [trace]\n",
    "\n",
    "layout = {\n",
    "    'title': 'Apple Preços no Periodo',\n",
    "    'yaxis': {'title': 'AAPL Stock'},\n",
    "    'shapes': [{\n",
    "        'x0': '2016-12-09', 'x1': '2016-12-09',\n",
    "        'y0': 0, 'y1': 1, 'xref': 'x', 'yref': 'paper',\n",
    "        'line': {'color': 'rgb(30,30,30)', 'width': 2}\n",
    "    }],\n",
    "    'annotations': [{\n",
    "        'x': '2016-12-09', 'y': 0.05, 'xref': 'x', 'yref': 'paper',\n",
    "        'showarrow': False, 'xanchor': 'left',\n",
    "        'text': 'Inicio do ciclo de alta'\n",
    "    }]\n",
    "}\n",
    "fig = dict(data=data, layout=layout)\n",
    "py.iplot(fig)"
   ]
  },
  {
   "cell_type": "markdown",
   "metadata": {},
   "source": [
    "**Exportando nosso gráfico para conta do Plotly na nuvem**"
   ]
  },
  {
   "cell_type": "markdown",
   "metadata": {},
   "source": [
    "- Criar conta no portal **plot.ly**\n",
    "- Obter credenciais da API\n",
    "- Importa método para plot **online**\n",
    "- Substitua o método iplot() pelo método **plot()**"
   ]
  },
  {
   "cell_type": "markdown",
   "metadata": {},
   "source": [
    "**Configurando credenciais**"
   ]
  },
  {
   "cell_type": "code",
   "execution_count": null,
   "metadata": {},
   "outputs": [],
   "source": [
    "import plotly\n",
    "plotly.tools.set_credentials_file(username='abcsd', api_key='xxxxxx')"
   ]
  },
  {
   "cell_type": "markdown",
   "metadata": {},
   "source": [
    "**Importando método para plot online**"
   ]
  },
  {
   "cell_type": "code",
   "execution_count": null,
   "metadata": {},
   "outputs": [],
   "source": [
    "import plotly.plotly as pyo"
   ]
  },
  {
   "cell_type": "markdown",
   "metadata": {},
   "source": [
    "**Obrigado pela presença**\n",
    "\n",
    "Compartilhe nosso site com seus amigos ;)"
   ]
  },
  {
   "cell_type": "markdown",
   "metadata": {},
   "source": [
    "www.minerandodados.com.br"
   ]
  }
 ],
 "metadata": {
  "colab": {
   "name": "Visualizacao-Plotly-01.ipynb",
   "provenance": [],
   "version": "0.3.2"
  },
  "kernelspec": {
   "display_name": "Python 3",
   "language": "python",
   "name": "python3"
  },
  "language_info": {
   "codemirror_mode": {
    "name": "ipython",
    "version": 3
   },
   "file_extension": ".py",
   "mimetype": "text/x-python",
   "name": "python",
   "nbconvert_exporter": "python",
   "pygments_lexer": "ipython3",
   "version": "3.7.1"
  }
 },
 "nbformat": 4,
 "nbformat_minor": 1
}
